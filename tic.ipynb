{
 "metadata": {
  "language_info": {
   "codemirror_mode": {
    "name": "ipython",
    "version": 3
   },
   "file_extension": ".py",
   "mimetype": "text/x-python",
   "name": "python",
   "nbconvert_exporter": "python",
   "pygments_lexer": "ipython3",
   "version": "3.8.5-final"
  },
  "orig_nbformat": 2,
  "kernelspec": {
   "name": "Python 3.8.5 32-bit",
   "display_name": "Python 3.8.5 32-bit",
   "metadata": {
    "interpreter": {
     "hash": "629c3676eb3c48caca0eca839c141e4b07db4113e0ea9ce481e3a4cc179b412e"
    }
   }
  }
 },
 "nbformat": 4,
 "nbformat_minor": 2,
 "cells": [
  {
   "cell_type": "code",
   "execution_count": 15,
   "metadata": {
    "tags": []
   },
   "outputs": [
    {
     "output_type": "stream",
     "name": "stdout",
     "text": "You can use any of given names to place your next move.\n\ntleft | tcenter | tright\nmleft | mcenter | mright\nbleft | bcenter | bright\n\n\nWho moves first, X or O? \n\nX\nFirst move is by X&#39;s\n\n. | . | .\n. | . | .\n. | . | .\n\n\nIt&#39;s X&#39;s move\n\n. | . | .\n. | X | .\n. | . | .\n\n\nIt&#39;s O&#39;s move\n\n. | . | O\n. | X | .\n. | . | .\n\n\nIt&#39;s X&#39;s move\n\n. | . | O\n. | X | .\n. | X | .\n\n\nIt&#39;s O&#39;s move\n\nChosen position is already taken\n. | O | O\n. | X | .\n. | X | .\n\n\nIt&#39;s X&#39;s move\n\nChosen position is already taken\n. | O | O\n. | X | .\n. | X | X\n\n\nIt&#39;s O&#39;s move\n\n. | O | O\n. | X | O\n. | X | X\n\n\nIt&#39;s X&#39;s move\n\nX&#39;s won!!!\n\nX | O | O\n. | X | O\n. | X | X\n"
    }
   ],
   "source": [
    "signs = (\"X\",\"O\")\n",
    "grid = {\"tleft\":0, \"tcenter\":1, \"tright\":2,\"mleft\":3, \"mcenter\":4, \"mright\":5,\"bleft\":6, \"bcenter\":7, \"bright\":8}\n",
    "positions = [\"tleft\", \"tcenter\", \"tright\", \"mleft\", \"mcenter\", \"mright\", \"bleft\", \"bcenter\", \"bright\"]\n",
    "win_O = [\"O\",\"O\",\"O\"]\n",
    "win_X = [\"X\",\"X\",\"X\"]\n",
    "\n",
    "def display_table(t):\n",
    "    \"\"\"a simple function to display a tic tac toe table\"\"\"\n",
    "    print(str(\" | \".join(t[0:3])))\n",
    "    print(str(\" | \".join(t[3:6])))\n",
    "    print(str(\" | \".join(t[6:])))\n",
    "\n",
    "def picker(sign, table):\n",
    "    '''\n",
    "    function takes a sign and a tic tac toe table as arguments\n",
    "    and alters the position choosen by user\n",
    "    '''\n",
    "    while True:\n",
    "        pos = str(input(\"Choose a position: \"))\n",
    "        change = grid[pos]\n",
    "        if table[change] == \".\":\n",
    "            table[change] = str(sign)\n",
    "            return\n",
    "        else:\n",
    "            print('Chosen position is already taken')\n",
    "\n",
    "def checker(table):\n",
    "    '''\n",
    "    !!!UNFINISHED!!!\n",
    "\n",
    "    function takes a tic tac toe table as an argument and checks for winning combinations\n",
    "    '''\n",
    "    for i in range(3):          #a loop to check horizontal winning combinations\n",
    "            if table[i*3:i*3+3] == win_X:\n",
    "                print(\"X's won!!!\\n\")\n",
    "                display_table(table)\n",
    "                return True\n",
    "            elif table[i*3:i*3+3] == win_O:\n",
    "                print(\"O's won!!!\\n\")\n",
    "                display_table(table)\n",
    "                return True\n",
    "\n",
    "    for i in range(3):          #a loop to check the vertical winning combinations\n",
    "        if table[i::3] == win_X:\n",
    "            print(\"X's won!!!\\n\")\n",
    "            display_table(table)\n",
    "            return True\n",
    "        elif table[i::3] == win_O:\n",
    "            print(\"O's won!!!\\n\")\n",
    "            display_table(table)\n",
    "            return True\n",
    "\n",
    "    if table[2:7:2] == win_X:\n",
    "        print(\"X's won!!!\\n\")\n",
    "        display_table(table)\n",
    "        return True\n",
    "    elif table[2:7:2] == win_O:\n",
    "        print(\"X's won!!!\\n\")\n",
    "        display_table(table)\n",
    "        return True\n",
    "\n",
    "    if table[0:9:4] == win_X:\n",
    "        print(\"X's won!!!\\n\")\n",
    "        display_table(table)\n",
    "        return True\n",
    "    elif table[0:9:4] == win_O:\n",
    "        print(\"X's won!!!\\n\")\n",
    "        display_table(table)\n",
    "        return True\n",
    "\n",
    "def mainloop():\n",
    "    '''main function of the tic tac toe game'''\n",
    "    table = [\".\",\".\",\".\",\".\",\".\",\".\",\".\",\".\",\".\"]   #list representation of tic tac toe table\n",
    "    win = False\n",
    "    print('You can use any of given names to place your next move.\\n')\n",
    "    display_table(positions)\n",
    "    print('\\n')\n",
    "    print('Who moves first, X or O? \\n')\n",
    "    first = str(input()).upper()\n",
    "    print(first)\n",
    "    print(\"First move is by \" + first + \"'s\\n\")\n",
    "    move = 1               #assigns the starting move for rotation between signs\n",
    "    if first == 'X':\n",
    "        second = 'O'\n",
    "    elif first == 'O':\n",
    "        second = 'X'\n",
    "    else:\n",
    "        raise ValueError('THERE IS NO OPTION FOR THAT SIGN')\n",
    "\n",
    "    while win == False: #loop runs till checker function returns True\n",
    "        display_table(table)\n",
    "        print('\\n')\n",
    "        if move%2 == 0:\n",
    "            print(\"It's \" + second + \"'s move\\n\")\n",
    "            picker(second, table)\n",
    "            move += 1\n",
    "            if checker(table) == True:\n",
    "                win = True\n",
    "        else:\n",
    "            print(\"It's \" + first + \"'s move\\n\")\n",
    "            picker(first, table)\n",
    "            move += 1\n",
    "            if checker(table) == True:\n",
    "                win = True\n",
    "\n",
    "mainloop()"
   ]
  },
  {
   "cell_type": "code",
   "execution_count": 13,
   "metadata": {
    "tags": []
   },
   "outputs": [
    {
     "output_type": "stream",
     "name": "stdout",
     "text": "[&#39;x&#39;, &#39;x&#39;, &#39;x&#39;]\n"
    }
   ],
   "source": [
    "b"
   ]
  },
  {
   "cell_type": "code",
   "execution_count": 9,
   "metadata": {
    "tags": []
   },
   "outputs": [
    {
     "output_type": "stream",
     "name": "stdout",
     "text": "[&#39;x&#39;, &#39;.&#39;, &#39;.&#39;]\n"
    }
   ],
   "source": []
  },
  {
   "cell_type": "code",
   "execution_count": null,
   "metadata": {},
   "outputs": [],
   "source": []
  }
 ]
}